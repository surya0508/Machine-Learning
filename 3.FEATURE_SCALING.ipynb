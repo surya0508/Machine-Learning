{
 "cells": [
  {
   "cell_type": "markdown",
   "metadata": {},
   "source": [
    "# Feature Scaling"
   ]
  },
  {
   "cell_type": "code",
   "execution_count": 1,
   "metadata": {},
   "outputs": [],
   "source": [
    "import numpy as np\n",
    "import pandas as pd\n"
   ]
  },
  {
   "cell_type": "code",
   "execution_count": 4,
   "metadata": {},
   "outputs": [
    {
     "data": {
      "text/html": [
       "<div>\n",
       "<style scoped>\n",
       "    .dataframe tbody tr th:only-of-type {\n",
       "        vertical-align: middle;\n",
       "    }\n",
       "\n",
       "    .dataframe tbody tr th {\n",
       "        vertical-align: top;\n",
       "    }\n",
       "\n",
       "    .dataframe thead th {\n",
       "        text-align: right;\n",
       "    }\n",
       "</style>\n",
       "<table border=\"1\" class=\"dataframe\">\n",
       "  <thead>\n",
       "    <tr style=\"text-align: right;\">\n",
       "      <th></th>\n",
       "      <th>id</th>\n",
       "      <th>gender</th>\n",
       "      <th>exp_years</th>\n",
       "      <th>salary</th>\n",
       "    </tr>\n",
       "  </thead>\n",
       "  <tbody>\n",
       "    <tr>\n",
       "      <th>0</th>\n",
       "      <td>101</td>\n",
       "      <td>male</td>\n",
       "      <td>5</td>\n",
       "      <td>5500</td>\n",
       "    </tr>\n",
       "    <tr>\n",
       "      <th>1</th>\n",
       "      <td>102</td>\n",
       "      <td>male</td>\n",
       "      <td>3</td>\n",
       "      <td>3000</td>\n",
       "    </tr>\n",
       "    <tr>\n",
       "      <th>2</th>\n",
       "      <td>103</td>\n",
       "      <td>female</td>\n",
       "      <td>2</td>\n",
       "      <td>2100</td>\n",
       "    </tr>\n",
       "    <tr>\n",
       "      <th>3</th>\n",
       "      <td>104</td>\n",
       "      <td>female</td>\n",
       "      <td>5</td>\n",
       "      <td>5000</td>\n",
       "    </tr>\n",
       "    <tr>\n",
       "      <th>4</th>\n",
       "      <td>105</td>\n",
       "      <td>male</td>\n",
       "      <td>5</td>\n",
       "      <td>5400</td>\n",
       "    </tr>\n",
       "  </tbody>\n",
       "</table>\n",
       "</div>"
      ],
      "text/plain": [
       "    id  gender  exp_years  salary\n",
       "0  101    male          5    5500\n",
       "1  102    male          3    3000\n",
       "2  103  female          2    2100\n",
       "3  104  female          5    5000\n",
       "4  105    male          5    5400"
      ]
     },
     "execution_count": 4,
     "metadata": {},
     "output_type": "execute_result"
    }
   ],
   "source": [
    "df=pd.read_csv(\"E:\\\\ML\\\\dataset\\\\feature.csv\")\n",
    "df.head()"
   ]
  },
  {
   "cell_type": "markdown",
   "metadata": {},
   "source": [
    "## Types of features scaling\n",
    "        minmax scaler\n",
    "        standardize\n",
    "        normalize\n",
    "        binarize\n",
    "        "
   ]
  },
  {
   "cell_type": "markdown",
   "metadata": {},
   "source": [
    "### minmax scaler"
   ]
  },
  {
   "cell_type": "markdown",
   "metadata": {},
   "source": [
    "minmaxscaler= xi-xmin/(xmax-xmin)"
   ]
  },
  {
   "cell_type": "markdown",
   "metadata": {},
   "source": [
    "import sklearn library"
   ]
  },
  {
   "cell_type": "code",
   "execution_count": 5,
   "metadata": {},
   "outputs": [],
   "source": [
    "from sklearn import preprocessing"
   ]
  },
  {
   "cell_type": "code",
   "execution_count": 7,
   "metadata": {},
   "outputs": [],
   "source": [
    "features=df.iloc[:,[2,3]].values"
   ]
  },
  {
   "cell_type": "code",
   "execution_count": 8,
   "metadata": {},
   "outputs": [
    {
     "data": {
      "text/plain": [
       "array([[   5, 5500],\n",
       "       [   3, 3000],\n",
       "       [   2, 2100],\n",
       "       [   5, 5000],\n",
       "       [   5, 5400],\n",
       "       [   6, 7000],\n",
       "       [   7, 7300],\n",
       "       [   8, 8000],\n",
       "       [   2, 1500],\n",
       "       [   1, 1000],\n",
       "       [   1, 1000],\n",
       "       [   2, 1900],\n",
       "       [   3, 4000],\n",
       "       [   9, 9000],\n",
       "       [   8, 8100],\n",
       "       [   7, 7000],\n",
       "       [   7, 7100],\n",
       "       [   4, 4300],\n",
       "       [   4, 4000],\n",
       "       [   4, 4000]], dtype=int64)"
      ]
     },
     "execution_count": 8,
     "metadata": {},
     "output_type": "execute_result"
    }
   ],
   "source": [
    "features"
   ]
  },
  {
   "cell_type": "code",
   "execution_count": 9,
   "metadata": {},
   "outputs": [],
   "source": [
    "min_max=preprocessing.MinMaxScaler(feature_range=(0,1))"
   ]
  },
  {
   "cell_type": "code",
   "execution_count": 10,
   "metadata": {},
   "outputs": [
    {
     "name": "stderr",
     "output_type": "stream",
     "text": [
      "C:\\ProgramData\\Anaconda3\\lib\\site-packages\\sklearn\\utils\\validation.py:475: DataConversionWarning: Data with input dtype int64 was converted to float64 by MinMaxScaler.\n",
      "  warnings.warn(msg, DataConversionWarning)\n"
     ]
    }
   ],
   "source": [
    "feature_scal=min_max.fit_transform(features)"
   ]
  },
  {
   "cell_type": "code",
   "execution_count": 11,
   "metadata": {},
   "outputs": [
    {
     "data": {
      "text/plain": [
       "array([[0.5   , 0.5625],\n",
       "       [0.25  , 0.25  ],\n",
       "       [0.125 , 0.1375],\n",
       "       [0.5   , 0.5   ],\n",
       "       [0.5   , 0.55  ],\n",
       "       [0.625 , 0.75  ],\n",
       "       [0.75  , 0.7875],\n",
       "       [0.875 , 0.875 ],\n",
       "       [0.125 , 0.0625],\n",
       "       [0.    , 0.    ],\n",
       "       [0.    , 0.    ],\n",
       "       [0.125 , 0.1125],\n",
       "       [0.25  , 0.375 ],\n",
       "       [1.    , 1.    ],\n",
       "       [0.875 , 0.8875],\n",
       "       [0.75  , 0.75  ],\n",
       "       [0.75  , 0.7625],\n",
       "       [0.375 , 0.4125],\n",
       "       [0.375 , 0.375 ],\n",
       "       [0.375 , 0.375 ]])"
      ]
     },
     "execution_count": 11,
     "metadata": {},
     "output_type": "execute_result"
    }
   ],
   "source": [
    "feature_scal"
   ]
  },
  {
   "cell_type": "markdown",
   "metadata": {},
   "source": [
    "## standard scaler"
   ]
  },
  {
   "cell_type": "markdown",
   "metadata": {},
   "source": [
    "standard scaler= xi/std(features)"
   ]
  },
  {
   "cell_type": "code",
   "execution_count": 26,
   "metadata": {},
   "outputs": [],
   "source": [
    "feature1=df.iloc[:,[2,3]].values"
   ]
  },
  {
   "cell_type": "code",
   "execution_count": 27,
   "metadata": {},
   "outputs": [],
   "source": [
    "std=preprocessing.StandardScaler()"
   ]
  },
  {
   "cell_type": "code",
   "execution_count": 28,
   "metadata": {},
   "outputs": [
    {
     "name": "stderr",
     "output_type": "stream",
     "text": [
      "C:\\ProgramData\\Anaconda3\\lib\\site-packages\\sklearn\\utils\\validation.py:475: DataConversionWarning: Data with input dtype int64 was converted to float64 by StandardScaler.\n",
      "  warnings.warn(msg, DataConversionWarning)\n"
     ]
    }
   ],
   "source": [
    "featstd=std.fit_transform(feature1)"
   ]
  },
  {
   "cell_type": "code",
   "execution_count": 31,
   "metadata": {},
   "outputs": [
    {
     "data": {
      "text/plain": [
       "array([[ 0.1462465 ,  0.27965033],\n",
       "       [-0.68944781, -0.7335755 ],\n",
       "       [-1.10729496, -1.0983368 ],\n",
       "       [ 0.1462465 ,  0.07700516],\n",
       "       [ 0.1462465 ,  0.2391213 ],\n",
       "       [ 0.56409366,  0.88758583],\n",
       "       [ 0.98194082,  1.00917293],\n",
       "       [ 1.39978797,  1.29287616],\n",
       "       [-1.10729496, -1.341511  ],\n",
       "       [-1.52514212, -1.54415617],\n",
       "       [-1.52514212, -1.54415617],\n",
       "       [-1.10729496, -1.17939487],\n",
       "       [-0.68944781, -0.32828517],\n",
       "       [ 1.81763513,  1.69816649],\n",
       "       [ 1.39978797,  1.3334052 ],\n",
       "       [ 0.98194082,  0.88758583],\n",
       "       [ 0.98194082,  0.92811486],\n",
       "       [-0.27160065, -0.20669807],\n",
       "       [-0.27160065, -0.32828517],\n",
       "       [-0.27160065, -0.32828517]])"
      ]
     },
     "execution_count": 31,
     "metadata": {},
     "output_type": "execute_result"
    }
   ],
   "source": [
    "featstd"
   ]
  },
  {
   "cell_type": "markdown",
   "metadata": {},
   "source": [
    "## Normalize"
   ]
  },
  {
   "cell_type": "markdown",
   "metadata": {},
   "source": [
    "normalizer=  xi/sqrt(sum of all the square of that row)"
   ]
  },
  {
   "cell_type": "code",
   "execution_count": 32,
   "metadata": {},
   "outputs": [],
   "source": [
    "feature2=df.iloc[:,[2,3]].values"
   ]
  },
  {
   "cell_type": "code",
   "execution_count": 33,
   "metadata": {},
   "outputs": [],
   "source": [
    "norm=preprocessing.Normalizer()"
   ]
  },
  {
   "cell_type": "code",
   "execution_count": 34,
   "metadata": {},
   "outputs": [],
   "source": [
    "featnorm=norm.fit_transform(feature2)"
   ]
  },
  {
   "cell_type": "code",
   "execution_count": 35,
   "metadata": {},
   "outputs": [
    {
     "data": {
      "text/plain": [
       "array([[9.09090533e-04, 9.99999587e-01],\n",
       "       [9.99999500e-04, 9.99999500e-01],\n",
       "       [9.52380520e-04, 9.99999546e-01],\n",
       "       [9.99999500e-04, 9.99999500e-01],\n",
       "       [9.25925529e-04, 9.99999571e-01],\n",
       "       [8.57142542e-04, 9.99999633e-01],\n",
       "       [9.58903669e-04, 9.99999540e-01],\n",
       "       [9.99999500e-04, 9.99999500e-01],\n",
       "       [1.33333215e-03, 9.99999111e-01],\n",
       "       [9.99999500e-04, 9.99999500e-01],\n",
       "       [9.99999500e-04, 9.99999500e-01],\n",
       "       [1.05263100e-03, 9.99999446e-01],\n",
       "       [7.49999789e-04, 9.99999719e-01],\n",
       "       [9.99999500e-04, 9.99999500e-01],\n",
       "       [9.87653839e-04, 9.99999512e-01],\n",
       "       [9.99999500e-04, 9.99999500e-01],\n",
       "       [9.85915014e-04, 9.99999514e-01],\n",
       "       [9.30232156e-04, 9.99999567e-01],\n",
       "       [9.99999500e-04, 9.99999500e-01],\n",
       "       [9.99999500e-04, 9.99999500e-01]])"
      ]
     },
     "execution_count": 35,
     "metadata": {},
     "output_type": "execute_result"
    }
   ],
   "source": [
    "featnorm"
   ]
  },
  {
   "cell_type": "markdown",
   "metadata": {},
   "source": [
    "## Binarize"
   ]
  },
  {
   "cell_type": "markdown",
   "metadata": {},
   "source": [
    "suppose if you give in the parameter (3) of object creation less than of equal 3 will be put zero more than 3 will be put 1"
   ]
  },
  {
   "cell_type": "code",
   "execution_count": 42,
   "metadata": {},
   "outputs": [],
   "source": [
    "feature3=df.iloc[:,[2]].values"
   ]
  },
  {
   "cell_type": "code",
   "execution_count": 43,
   "metadata": {},
   "outputs": [],
   "source": [
    "binarize=preprocessing.Binarizer(3)"
   ]
  },
  {
   "cell_type": "code",
   "execution_count": 44,
   "metadata": {},
   "outputs": [],
   "source": [
    "featbinar=binarize.fit_transform(feature3)"
   ]
  },
  {
   "cell_type": "code",
   "execution_count": 45,
   "metadata": {},
   "outputs": [
    {
     "data": {
      "text/plain": [
       "array([[1],\n",
       "       [0],\n",
       "       [0],\n",
       "       [1],\n",
       "       [1],\n",
       "       [1],\n",
       "       [1],\n",
       "       [1],\n",
       "       [0],\n",
       "       [0],\n",
       "       [0],\n",
       "       [0],\n",
       "       [0],\n",
       "       [1],\n",
       "       [1],\n",
       "       [1],\n",
       "       [1],\n",
       "       [1],\n",
       "       [1],\n",
       "       [1]], dtype=int64)"
      ]
     },
     "execution_count": 45,
     "metadata": {},
     "output_type": "execute_result"
    }
   ],
   "source": [
    "featbinar"
   ]
  }
 ],
 "metadata": {
  "kernelspec": {
   "display_name": "Python 3",
   "language": "python",
   "name": "python3"
  },
  "language_info": {
   "codemirror_mode": {
    "name": "ipython",
    "version": 3
   },
   "file_extension": ".py",
   "mimetype": "text/x-python",
   "name": "python",
   "nbconvert_exporter": "python",
   "pygments_lexer": "ipython3",
   "version": "3.6.4"
  }
 },
 "nbformat": 4,
 "nbformat_minor": 2
}
