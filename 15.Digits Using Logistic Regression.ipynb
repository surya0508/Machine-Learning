{
 "cells": [
  {
   "cell_type": "code",
   "execution_count": 1,
   "metadata": {},
   "outputs": [],
   "source": [
    "#importing python libraries\n",
    "import numpy as np  \n",
    "from matplotlib import pyplot as plt\n"
   ]
  },
  {
   "cell_type": "code",
   "execution_count": 2,
   "metadata": {},
   "outputs": [],
   "source": [
    "from sklearn.datasets import load_digits\n",
    "digits=load_digits()  #to fetch handwritten digits from sklearn\n"
   ]
  },
  {
   "cell_type": "code",
   "execution_count": 4,
   "metadata": {
    "scrolled": true
   },
   "outputs": [
    {
     "data": {
      "text/plain": [
       "1797"
      ]
     },
     "execution_count": 4,
     "metadata": {},
     "output_type": "execute_result"
    }
   ],
   "source": [
    "len(digits.images)"
   ]
  },
  {
   "cell_type": "code",
   "execution_count": 3,
   "metadata": {},
   "outputs": [
    {
     "data": {
      "text/plain": [
       "(1797, 64)"
      ]
     },
     "execution_count": 3,
     "metadata": {},
     "output_type": "execute_result"
    }
   ],
   "source": [
    "digits.data.shape"
   ]
  },
  {
   "cell_type": "code",
   "execution_count": 4,
   "metadata": {},
   "outputs": [
    {
     "data": {
      "text/plain": [
       "(1797,)"
      ]
     },
     "execution_count": 4,
     "metadata": {},
     "output_type": "execute_result"
    }
   ],
   "source": [
    "digits.target.shape"
   ]
  },
  {
   "cell_type": "code",
   "execution_count": 6,
   "metadata": {},
   "outputs": [],
   "source": [
    "n_samples=len(digits.images)\n",
    "x=digits.images.reshape((n_samples,-1))  #splitting x and y\n",
    "y=digits.target"
   ]
  },
  {
   "cell_type": "code",
   "execution_count": 7,
   "metadata": {},
   "outputs": [
    {
     "data": {
      "text/plain": [
       "(1797, 64)"
      ]
     },
     "execution_count": 7,
     "metadata": {},
     "output_type": "execute_result"
    }
   ],
   "source": [
    "x.shape"
   ]
  },
  {
   "cell_type": "code",
   "execution_count": 10,
   "metadata": {},
   "outputs": [
    {
     "name": "stdout",
     "output_type": "stream",
     "text": [
      "[[ 0.  0.  5. 13.  9.  1.  0.  0.  0.  0. 13. 15. 10. 15.  5.  0.  0.  3.\n",
      "  15.  2.  0. 11.  8.  0.  0.  4. 12.  0.  0.  8.  8.  0.  0.  5.  8.  0.\n",
      "   0.  9.  8.  0.  0.  4. 11.  0.  1. 12.  7.  0.  0.  2. 14.  5. 10. 12.\n",
      "   0.  0.  0.  0.  6. 13. 10.  0.  0.  0.]]\n"
     ]
    }
   ],
   "source": [
    "print(digits.data[:1])"
   ]
  },
  {
   "cell_type": "code",
   "execution_count": 11,
   "metadata": {},
   "outputs": [
    {
     "data": {
      "image/png": "[encoded data removed]",
      "text/plain": [
       "<Figure size 432x288 with 1 Axes>"
      ]
     },
     "metadata": {
      "needs_background": "light"
     },
     "output_type": "display_data"
    }
   ],
   "source": [
    "plt.imshow(digits.images[0],cmap=plt.cm.gray_r)\n",
    "plt.show()"
   ]
  },
  {
   "cell_type": "code",
   "execution_count": 12,
   "metadata": {},
   "outputs": [
    {
     "name": "stdout",
     "output_type": "stream",
     "text": [
      "[0 1 2 3 4]\n"
     ]
    }
   ],
   "source": [
    "print(digits.target[:5])"
   ]
  },
  {
   "cell_type": "code",
   "execution_count": 13,
   "metadata": {},
   "outputs": [],
   "source": [
    "from sklearn.model_selection import train_test_split"
   ]
  },
  {
   "cell_type": "code",
   "execution_count": 14,
   "metadata": {},
   "outputs": [],
   "source": [
    "x_train,x_test,y_train,y_test=train_test_split(digits.data,digits.target,test_size=0.2,random_state=0)"
   ]
  },
  {
   "cell_type": "code",
   "execution_count": 17,
   "metadata": {},
   "outputs": [],
   "source": [
    "from sklearn.preprocessing import StandardScaler\n",
    "stdc=StandardScaler()\n",
    "x_train_scaled=stdc.fit_transform(x_train)\n",
    "x_test_scaled=stdc.fit_transform(x_test)\n",
    "from sklearn.svm import LinearSVC"
   ]
  },
  {
   "cell_type": "code",
   "execution_count": 20,
   "metadata": {},
   "outputs": [
    {
     "name": "stderr",
     "output_type": "stream",
     "text": [
      "C:\\ProgramData\\Anaconda3\\lib\\site-packages\\sklearn\\svm\\_base.py:947: ConvergenceWarning: Liblinear failed to converge, increase the number of iterations.\n",
      "  \"the number of iterations.\", ConvergenceWarning)\n"
     ]
    }
   ],
   "source": [
    "model=LinearSVC(C=1.0,max_iter=500)\n",
    "model.fit(x_train_scaled,y_train)\n",
    "y_pred=model.predict(x_test_scaled)"
   ]
  },
  {
   "cell_type": "code",
   "execution_count": 22,
   "metadata": {},
   "outputs": [
    {
     "name": "stdout",
     "output_type": "stream",
     "text": [
      "[2]\n",
      "[2]\n"
     ]
    }
   ],
   "source": [
    "#let us compare one digit\n",
    "print(y_test[:1])\n",
    "print(y_pred[:1])"
   ]
  },
  {
   "cell_type": "code",
   "execution_count": 23,
   "metadata": {},
   "outputs": [
    {
     "name": "stdout",
     "output_type": "stream",
     "text": [
      "[[ 0.00000000e+00  6.82236086e-02  7.66047520e-02  9.09820916e-02\n",
      "  -4.51400277e-02 -2.95165378e-01 -3.39313072e-01  6.46956504e-02\n",
      "   6.79227626e-02 -1.38916514e-01 -1.19406158e-01  2.13437305e-01\n",
      "   2.62665784e-01  3.06378514e-01  8.14382261e-02  6.29199478e-03\n",
      "   3.29603288e-02  1.98237763e-01  1.50866445e-01 -1.01611133e-01\n",
      "  -3.08634887e-01  2.55066253e-01  4.86820268e-02  6.83783665e-03\n",
      "   6.58078202e-02  6.70836944e-03 -1.15013303e-01 -6.23151422e-02\n",
      "  -4.95775831e-01 -1.35196547e-01  6.59539443e-02  2.76465228e-02\n",
      "   0.00000000e+00  6.70225898e-02  2.35314439e-01 -1.46110559e-01\n",
      "  -5.51803708e-01  2.17653767e-01 -7.86029242e-02  0.00000000e+00\n",
      "   3.02234653e-02 -5.76594487e-02  3.42299538e-01 -2.77656865e-01\n",
      "  -1.68654042e-01 -1.34301507e-01  7.85363028e-02  6.94206968e-02\n",
      "  -3.94007342e-02  3.99026781e-02 -5.78077997e-03 -1.38921179e-01\n",
      "   1.46432609e-01  2.56221641e-01 -1.13453462e-01 -3.13133734e-02\n",
      "   6.58078202e-02 -9.93576638e-02 -2.62011466e-01  2.58352472e-01\n",
      "  -3.99321281e-01 -6.01961779e-02  1.19072610e-01 -1.83368382e-01]\n",
      " [ 0.00000000e+00 -1.23274305e-01  1.11904297e-01  3.37528297e-01\n",
      "  -9.24702852e-01  9.27127593e-01  3.73675360e-02  1.28548319e-01\n",
      "   1.60586440e-01 -1.13354896e+00 -5.78736482e-01 -3.51651380e-01\n",
      "   4.23317394e-01  1.68374325e-01 -7.63700046e-01  1.61428566e-01\n",
      "   6.78470274e-02  5.63250263e-01  1.40819673e-01  1.18540030e+00\n",
      "   5.26586907e-01 -4.02116880e-01  4.17843767e-01 -3.17908392e-01\n",
      "  -4.98807588e-02 -8.73992993e-02 -8.07255383e-02  2.20847458e-01\n",
      "   2.90289398e-01  2.80072242e-01 -3.56660405e-01  1.42108121e-01\n",
      "   0.00000000e+00 -2.65179520e-02  2.80163974e-01 -6.23704833e-02\n",
      "   3.27402432e-01 -1.36894059e-01 -2.85969205e-01  0.00000000e+00\n",
      "   2.17591527e-01 -5.83093569e-01 -4.82241782e-02 -5.91226405e-03\n",
      "  -5.21238646e-02 -4.53348753e-01  3.02751436e-02 -3.70786317e-01\n",
      "   5.24411014e-02 -2.00318740e-01 -2.52193315e-01  3.00949523e-01\n",
      "   3.32770165e-01  2.32889209e-01 -5.00491297e-01  2.31764423e-01\n",
      "   2.44980245e-02  2.15557651e-01 -1.73156589e-01  6.14456054e-02\n",
      "   1.36632997e-01  9.76785016e-02  1.63240827e-01 -4.52899543e-02]\n",
      " [ 0.00000000e+00  3.69106594e-03 -1.59891444e-01  2.24105655e-01\n",
      "  -5.86580965e-02 -2.45578480e-01 -4.67970054e-02  2.83821479e-02\n",
      "   5.18318712e-03  1.85227719e-01  1.57683350e-01 -8.10385904e-02\n",
      "   1.05127618e-01 -6.33152363e-02 -4.26534234e-03  5.56884945e-02\n",
      "  -2.08056434e-02 -1.18095895e-02  1.89191525e-01 -1.90180765e-01\n",
      "   2.71414388e-01  7.32713931e-02  2.04014693e-01  1.82749570e-01\n",
      "   6.86649440e-02 -2.01249493e-01 -4.30478614e-01 -5.48171621e-01\n",
      "  -2.31064292e-01  8.35600220e-02 -5.03001201e-02  3.75391686e-02\n",
      "   0.00000000e+00 -3.07539384e-01 -2.93293881e-01 -9.21220679e-02\n",
      "  -1.82382633e-01 -1.33601962e-01 -3.58733068e-01  0.00000000e+00\n",
      "   5.60872187e-02  2.40011234e-01  5.39692258e-02  5.42165166e-01\n",
      "  -4.71276461e-01 -2.82439290e-01 -4.42846649e-01  1.30059948e-01\n",
      "  -3.52714261e-02  1.49288379e-01 -4.58678817e-02  3.32157588e-01\n",
      "   1.82318126e-01  3.37629639e-01  1.94807551e-01 -4.10181052e-03\n",
      "   6.86649440e-02  3.97130888e-02 -1.63354737e-02  5.70698761e-02\n",
      "   3.88352142e-02  1.89965607e-01  2.47467850e-01 -9.36403734e-03]\n",
      " [ 0.00000000e+00  1.78178939e-01 -8.63780400e-01  9.19245315e-02\n",
      "   3.36153732e-01 -2.18111949e-01 -2.04303575e-01  3.71965569e-02\n",
      "   8.87138565e-03 -8.25474306e-02  1.67119446e-01  1.07541119e-01\n",
      "   1.23733606e-01  5.44584132e-01  5.84656754e-01  7.99818140e-02\n",
      "   4.94281933e-02 -4.98152351e-02 -6.23955703e-01 -5.77021540e-01\n",
      "   3.12723583e-01 -2.76750411e-01  2.19437402e-01  3.10430563e-02\n",
      "   9.67242811e-02 -2.00913760e-01 -5.86685640e-01 -5.17796559e-02\n",
      "   8.54691398e-02 -6.96270837e-01 -1.25776732e+00  1.29524732e-01\n",
      "   0.00000000e+00 -2.42779736e-01 -2.84717493e-01  2.31081532e-01\n",
      "  -3.08263247e-01  1.46384351e-01  2.18974094e-02  0.00000000e+00\n",
      "   1.90488901e-01 -9.25515268e-04 -2.99263644e-01 -1.14171868e+00\n",
      "   5.46684312e-01  7.89637818e-01  4.36338096e-01 -8.85268635e-02\n",
      "   8.42756515e-02 -1.82670698e-01 -1.16993991e-01 -9.18275304e-02\n",
      "   7.39221815e-02 -1.61393727e-01  5.02054471e-01 -9.05983923e-02\n",
      "   9.67242811e-02  7.72908345e-02  7.37974017e-01 -4.35984363e-02\n",
      "   6.41938508e-01 -2.29533590e-01  8.18163226e-02 -3.59277323e-01]\n",
      " [ 0.00000000e+00 -2.65804601e-01 -1.70147152e-01 -4.93678839e-01\n",
      "  -3.15140833e-01 -2.65492595e-01 -2.60879885e-01  9.11886870e-02\n",
      "   1.08398914e-01  4.45763357e-03 -1.95828706e-01 -1.82972362e-01\n",
      "  -3.11765710e-01 -4.65094597e-01 -2.25046239e-01  6.05129278e-03\n",
      "   5.09532647e-02  1.03962442e-01  2.58148009e-01 -9.89842684e-03\n",
      "  -6.79580101e-02  4.12623382e-01 -4.37553049e-02  3.51042711e-02\n",
      "   7.16728052e-02 -8.61101577e-02  2.36004591e-01 -5.56779052e-03\n",
      "  -1.50484512e-01  4.54397465e-02  3.58176928e-01  1.24227480e-01\n",
      "   0.00000000e+00  1.26940195e-01  4.65620059e-03  3.20412748e-02\n",
      "   3.35623383e-01 -1.09398025e-02  3.13882384e-01  0.00000000e+00\n",
      "   1.57704269e-01  3.04904952e-01 -3.01631559e-01  4.93069599e-01\n",
      "   4.84033087e-02  1.13590883e-01  8.34290713e-02  4.27692814e-04\n",
      "   5.72584169e-02  2.35101819e-01 -1.71428375e-01 -1.48586125e-02\n",
      "   2.16445334e-01 -4.25652466e-01 -3.94856224e-01  7.52059099e-02\n",
      "  -7.36906868e-02  1.72395884e-01  3.85742048e-02 -1.23370515e-01\n",
      "  -1.22604164e-01 -1.40039341e-01 -6.95684404e-02  3.91342668e-02]\n",
      " [ 0.00000000e+00 -7.64875491e-03  5.10074480e-01 -3.87637698e-01\n",
      "   1.32843607e-01  2.51047909e-01  4.70238405e-01 -1.57329189e-01\n",
      "   6.07501140e-02  3.59852129e-02  2.99947203e-01  1.30937281e-01\n",
      "   3.39501204e-01 -2.87345792e-01 -3.07102293e-01  7.11951049e-02\n",
      "  -9.50847800e-03 -3.39372275e-02  2.23316079e-01  3.65224180e-02\n",
      "  -8.61079563e-01 -8.17166262e-01 -5.41547125e-01  2.05993173e-01\n",
      "  -2.67202536e-02  1.28295163e-01  3.90021220e-01 -3.35226291e-01\n",
      "   6.66625510e-01  1.09032147e-01 -5.36053942e-01  4.10064745e-02\n",
      "   0.00000000e+00 -4.82648927e-01  2.79877902e-01 -6.09808091e-02\n",
      "  -2.86560856e-01 -2.90797863e-01  1.12701604e-01  0.00000000e+00\n",
      "   7.23407837e-02 -1.26334463e-01 -2.54489724e-01 -5.17786698e-01\n",
      "  -1.90893132e-01  1.48909697e-01 -8.18295235e-02 -9.45841962e-03\n",
      "   7.89094523e-02  7.00157521e-02 -6.70038465e-02  5.21100636e-03\n",
      "   6.38055289e-02 -1.58843684e-01 -2.23170218e-01  3.39474401e-02\n",
      "   2.09799966e-02  1.47494835e-02  1.95494710e-01  2.35221357e-01\n",
      "  -2.70121356e-01  4.99541536e-02 -7.17657479e-02 -4.36584521e-02]\n",
      " [ 0.00000000e+00 -6.50446345e-02 -1.07805919e-01 -1.41303904e-02\n",
      "  -6.64010458e-02 -1.72025930e-01  1.57193900e-01  9.72359394e-02\n",
      "   7.02918936e-02 -9.07810577e-02 -1.69613424e-01  1.17826295e-02\n",
      "  -4.12205361e-01 -3.61501331e-02  1.49914356e-01 -1.59976646e-03\n",
      "  -4.49035172e-03 -1.03513537e-01  1.00980828e-01  2.84860401e-02\n",
      "  -1.59857849e-01 -9.22914431e-01  5.39034215e-02  6.22698908e-02\n",
      "   3.99070782e-02  1.49022564e-01 -1.04424344e-01  2.88818950e-01\n",
      "  -2.48808926e-01 -4.13355867e-03 -4.05856808e-01  1.06112440e-02\n",
      "   0.00000000e+00  8.33139561e-02  2.40752120e-01  3.46522966e-01\n",
      "  -9.56942051e-02 -2.04071860e-02  1.95058034e-02  0.00000000e+00\n",
      "   1.21320819e-01 -4.28115832e-01  6.09764008e-01 -3.86350276e-01\n",
      "   2.75341914e-01  3.35896167e-01  2.33747795e-01  3.48201542e-01\n",
      "   2.30320580e-02 -1.85381278e-01  3.82187328e-01  4.44142594e-01\n",
      "  -2.70970000e-01  1.93178569e-02  1.66293796e-01 -2.35043845e-01\n",
      "   8.18491528e-02  8.70502356e-02 -2.68282284e-01 -1.27294687e-01\n",
      "   8.96557680e-02  1.00824210e-01 -1.95313845e-01  1.13129557e-01]\n",
      " [ 0.00000000e+00  1.90522300e-01  9.88670451e-02  1.84671020e-01\n",
      "   3.16478883e-02  4.15055986e-01  1.37712404e-01  2.48869890e-01\n",
      "   4.38704402e-02  2.07372064e-01  3.19312121e-01  8.75319695e-03\n",
      "   7.70438500e-01 -2.70917633e-02 -1.43896204e-01 -1.48018945e-02\n",
      "   1.03151122e-01 -3.68042407e-01 -3.26489332e-01 -4.47297315e-01\n",
      "  -2.35265417e-01  4.31485880e-01  1.28505018e-01  1.24407164e-02\n",
      "   7.29134572e-02 -2.89400212e-01 -2.46404841e-02 -2.68377593e-01\n",
      "  -2.40649983e-01 -2.59915540e-01  3.09537247e-01 -1.43709582e-01\n",
      "   0.00000000e+00  1.18484005e-01  4.68590062e-02 -2.20130663e-02\n",
      "   3.07218023e-01  3.14749884e-01  1.03465915e-01  0.00000000e+00\n",
      "   5.54990918e-02 -1.36526927e-01  3.54499509e-02  4.47374203e-02\n",
      "   2.13237342e-01  1.85697152e-01  2.12408252e-01  3.44542710e-02\n",
      "   1.01135553e-01 -7.62007695e-02  1.05659539e-01  2.85781867e-01\n",
      "  -6.67774858e-01 -8.61006968e-01 -3.88818133e-02  1.63067316e-01\n",
      "   4.87809002e-02 -3.25326631e-01 -3.13188247e-01 -2.77237711e-01\n",
      "  -1.75101645e-02 -6.22553424e-01 -1.35526499e-01  1.30478086e-01]\n",
      " [ 0.00000000e+00 -4.55538178e-02  1.81222570e-01 -3.07402464e-01\n",
      "   1.18420552e-01 -5.83120461e-02 -5.09365089e-01  4.58522643e-02\n",
      "   1.52257614e-02 -2.91077102e-02  2.88580534e-01  2.67839723e-02\n",
      "  -2.57510926e-01  3.72545882e-01  2.76615102e-01  1.43381584e-01\n",
      "   8.05725428e-02  3.83522691e-02  4.66793565e-01  1.48159697e-01\n",
      "   9.67450968e-02  1.64870643e-01  7.73582305e-02 -1.31413181e-01\n",
      "   3.01365582e-02  1.62085753e-03 -9.86937041e-02  3.52263607e-01\n",
      "  -1.99483886e-01  3.80134098e-02  7.02434359e-02 -1.83079341e-02\n",
      "   0.00000000e+00 -4.22673842e-01 -3.34729171e-01  6.79540223e-01\n",
      "   3.73943913e-02 -1.06000267e-01 -1.07000772e+00  0.00000000e+00\n",
      "   1.39792833e-01  2.78736109e-01  2.96945698e-01  3.12597786e-02\n",
      "   1.45753392e-01  4.42513267e-02  1.87375071e-01  1.38803500e-01\n",
      "   7.19105625e-02 -9.61993365e-02  2.59624182e-01 -3.16452701e-01\n",
      "  -3.68969192e-01  2.23103560e-01 -4.34310006e-02 -2.01574403e-01\n",
      "  -9.52263958e-03  6.32063342e-02 -5.08955904e-01  1.93767116e-02\n",
      "   1.94114469e-01 -3.71731591e-01  6.28913016e-03 -7.73180459e-03]\n",
      " [ 0.00000000e+00 -6.90563915e-02  1.19872175e-01  2.62753290e-01\n",
      "   2.10600689e-01 -3.40292322e-01 -3.74830742e-03 -4.91324992e-02\n",
      "   6.32503355e-02  8.75898915e-02  2.56656080e-01 -5.71478597e-02\n",
      "   1.79853106e-01  6.85245775e-02  2.09390236e-01  3.16155364e-02\n",
      "   6.40969393e-02  6.57775813e-02  4.80602329e-01  4.41245195e-01\n",
      "   5.18966038e-02  9.90742608e-01 -4.25970985e-03 -1.98045888e-01\n",
      "   7.72370797e-02 -6.42249931e-02  4.20506808e-01  3.60236849e-01\n",
      "   1.55621359e-01  4.48789350e-01 -3.91656749e-02  3.84835239e-02\n",
      "   0.00000000e+00 -6.07576085e-01 -1.23204633e-01  7.25995942e-01\n",
      "  -4.34769845e-01 -3.94072059e-02 -6.41949486e-02  0.00000000e+00\n",
      "   2.01991716e-01  3.22744683e-02 -8.52543514e-01 -1.50461664e+00\n",
      "  -7.35126767e-01 -4.37043827e-01 -1.74992593e-01  6.41342309e-02\n",
      "   9.08036535e-02  9.39399282e-02 -2.55964704e-01  9.40955097e-02\n",
      "  -1.67002664e-01 -2.50116170e-01 -2.35793135e-01  2.73789852e-01\n",
      "   8.98473918e-02 -2.93946053e-01 -2.48531683e-01 -9.43738597e-02\n",
      "   1.53369748e-01  1.00747338e-01 -1.28818643e-01  7.26788938e-02]]\n"
     ]
    }
   ],
   "source": [
    "print(model.coef_)  #machine get result from testing||||| to get the accuarcy score for algorithm"
   ]
  },
  {
   "cell_type": "code",
   "execution_count": 24,
   "metadata": {},
   "outputs": [
    {
     "name": "stdout",
     "output_type": "stream",
     "text": [
      "[-2.49376041 -4.29636745 -2.60202995 -3.66532704 -2.71601161 -2.88159948\n",
      " -3.10164014 -2.76302561 -2.46716456 -3.84099827]\n"
     ]
    }
   ],
   "source": [
    "print(model.intercept_)"
   ]
  },
  {
   "cell_type": "code",
   "execution_count": 28,
   "metadata": {},
   "outputs": [
    {
     "name": "stdout",
     "output_type": "stream",
     "text": [
      "0.9972164231036882\n",
      "0.9444444444444444\n"
     ]
    }
   ],
   "source": [
    "    print(model.score(x_train_scaled,y_train))\n",
    "    print(model.score(x_test_scaled,y_test))"
   ]
  },
  {
   "cell_type": "code",
   "execution_count": 29,
   "metadata": {},
   "outputs": [],
   "source": [
    "from sklearn.metrics import classification_report"
   ]
  },
  {
   "cell_type": "code",
   "execution_count": 30,
   "metadata": {},
   "outputs": [
    {
     "name": "stdout",
     "output_type": "stream",
     "text": [
      "              precision    recall  f1-score   support\n",
      "\n",
      "           0       1.00      1.00      1.00        27\n",
      "           1       0.86      0.91      0.89        35\n",
      "           2       0.97      0.94      0.96        36\n",
      "           3       0.90      0.97      0.93        29\n",
      "           4       0.97      1.00      0.98        30\n",
      "           5       0.95      0.95      0.95        40\n",
      "           6       0.96      0.98      0.97        44\n",
      "           7       0.97      0.95      0.96        39\n",
      "           8       0.92      0.87      0.89        39\n",
      "           9       0.95      0.90      0.92        41\n",
      "\n",
      "    accuracy                           0.94       360\n",
      "   macro avg       0.95      0.95      0.95       360\n",
      "weighted avg       0.95      0.94      0.94       360\n",
      "\n"
     ]
    }
   ],
   "source": [
    "print(classification_report(y_test,y_pred))"
   ]
  },
  {
   "cell_type": "code",
   "execution_count": 31,
   "metadata": {},
   "outputs": [],
   "source": [
    "from sklearn.linear_model import LogisticRegression"
   ]
  },
  {
   "cell_type": "code",
   "execution_count": 32,
   "metadata": {},
   "outputs": [],
   "source": [
    "logmodel=LogisticRegression(max_iter=500)"
   ]
  },
  {
   "cell_type": "code",
   "execution_count": 36,
   "metadata": {},
   "outputs": [],
   "source": [
    "logmodel.fit(x_train_scaled,y_train)\n",
    "pred=logmodel.predict(x_test)"
   ]
  },
  {
   "cell_type": "code",
   "execution_count": 37,
   "metadata": {},
   "outputs": [
    {
     "name": "stdout",
     "output_type": "stream",
     "text": [
      "              precision    recall  f1-score   support\n",
      "\n",
      "           0       1.00      1.00      1.00        27\n",
      "           1       0.34      1.00      0.50        35\n",
      "           2       1.00      0.67      0.80        36\n",
      "           3       0.95      0.72      0.82        29\n",
      "           4       1.00      0.17      0.29        30\n",
      "           5       1.00      0.62      0.77        40\n",
      "           6       0.95      0.91      0.93        44\n",
      "           7       1.00      0.56      0.72        39\n",
      "           8       0.89      0.62      0.73        39\n",
      "           9       0.65      0.98      0.78        41\n",
      "\n",
      "    accuracy                           0.73       360\n",
      "   macro avg       0.88      0.72      0.73       360\n",
      "weighted avg       0.87      0.73      0.74       360\n",
      "\n"
     ]
    }
   ],
   "source": [
    "print(classification_report(y_test,pred))"
   ]
  }
 ],
 "metadata": {
  "kernelspec": {
   "display_name": "Python 3",
   "language": "python",
   "name": "python3"
  },
  "language_info": {
   "codemirror_mode": {
    "name": "ipython",
    "version": 3
   },
   "file_extension": ".py",
   "mimetype": "text/x-python",
   "name": "python",
   "nbconvert_exporter": "python",
   "pygments_lexer": "ipython3",
   "version": "3.6.4"
  }
 },
 "nbformat": 4,
 "nbformat_minor": 2
}
