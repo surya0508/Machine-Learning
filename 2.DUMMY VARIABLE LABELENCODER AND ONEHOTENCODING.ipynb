{
 "cells": [
  {
   "cell_type": "code",
   "execution_count": 1,
   "metadata": {},
   "outputs": [],
   "source": [
    "import pandas as pd"
   ]
  },
  {
   "cell_type": "code",
   "execution_count": 2,
   "metadata": {},
   "outputs": [],
   "source": [
    "df=pd.read_csv(\"E:\\\\ML\\\\dataset\\\\label.csv\")"
   ]
  },
  {
   "cell_type": "code",
   "execution_count": 3,
   "metadata": {},
   "outputs": [
    {
     "data": {
      "text/html": [
       "<div>\n",
       "<style scoped>\n",
       "    .dataframe tbody tr th:only-of-type {\n",
       "        vertical-align: middle;\n",
       "    }\n",
       "\n",
       "    .dataframe tbody tr th {\n",
       "        vertical-align: top;\n",
       "    }\n",
       "\n",
       "    .dataframe thead th {\n",
       "        text-align: right;\n",
       "    }\n",
       "</style>\n",
       "<table border=\"1\" class=\"dataframe\">\n",
       "  <thead>\n",
       "    <tr style=\"text-align: right;\">\n",
       "      <th></th>\n",
       "      <th>housetype</th>\n",
       "      <th>bedroom</th>\n",
       "      <th>sqrft</th>\n",
       "      <th>rate</th>\n",
       "    </tr>\n",
       "  </thead>\n",
       "  <tbody>\n",
       "    <tr>\n",
       "      <th>0</th>\n",
       "      <td>rental</td>\n",
       "      <td>1</td>\n",
       "      <td>2300</td>\n",
       "      <td>2500</td>\n",
       "    </tr>\n",
       "    <tr>\n",
       "      <th>1</th>\n",
       "      <td>ownflat</td>\n",
       "      <td>2</td>\n",
       "      <td>3000</td>\n",
       "      <td>6000</td>\n",
       "    </tr>\n",
       "    <tr>\n",
       "      <th>2</th>\n",
       "      <td>individual</td>\n",
       "      <td>3</td>\n",
       "      <td>5000</td>\n",
       "      <td>9000</td>\n",
       "    </tr>\n",
       "    <tr>\n",
       "      <th>3</th>\n",
       "      <td>lease</td>\n",
       "      <td>2</td>\n",
       "      <td>2680</td>\n",
       "      <td>4000</td>\n",
       "    </tr>\n",
       "    <tr>\n",
       "      <th>4</th>\n",
       "      <td>rental</td>\n",
       "      <td>1</td>\n",
       "      <td>2700</td>\n",
       "      <td>3000</td>\n",
       "    </tr>\n",
       "  </tbody>\n",
       "</table>\n",
       "</div>"
      ],
      "text/plain": [
       "    housetype  bedroom  sqrft  rate\n",
       "0      rental        1   2300  2500\n",
       "1     ownflat        2   3000  6000\n",
       "2  individual        3   5000  9000\n",
       "3       lease        2   2680  4000\n",
       "4      rental        1   2700  3000"
      ]
     },
     "execution_count": 3,
     "metadata": {},
     "output_type": "execute_result"
    }
   ],
   "source": [
    "df.head()"
   ]
  },
  {
   "cell_type": "code",
   "execution_count": 6,
   "metadata": {},
   "outputs": [
    {
     "data": {
      "text/plain": [
       "array(['rental', 'ownflat', 'individual', 'lease'], dtype=object)"
      ]
     },
     "execution_count": 6,
     "metadata": {},
     "output_type": "execute_result"
    }
   ],
   "source": [
    "df['housetype'].unique()"
   ]
  },
  {
   "cell_type": "markdown",
   "metadata": {},
   "source": [
    "duumy variable"
   ]
  },
  {
   "cell_type": "code",
   "execution_count": 4,
   "metadata": {},
   "outputs": [
    {
     "name": "stdout",
     "output_type": "stream",
     "text": [
      "    individual  lease  ownflat  rental\n",
      "0            0      0        0       1\n",
      "1            0      0        1       0\n",
      "2            1      0        0       0\n",
      "3            0      1        0       0\n",
      "4            0      0        0       1\n",
      "5            0      0        0       1\n",
      "6            0      0        1       0\n",
      "7            0      0        1       0\n",
      "8            0      0        1       0\n",
      "9            1      0        0       0\n",
      "10           1      0        0       0\n",
      "11           1      0        0       0\n",
      "12           1      0        0       0\n",
      "13           0      1        0       0\n",
      "14           0      1        0       0\n"
     ]
    }
   ],
   "source": [
    "dumm=pd.get_dummies(df.housetype)\n",
    "print(dumm)"
   ]
  },
  {
   "cell_type": "code",
   "execution_count": 28,
   "metadata": {},
   "outputs": [
    {
     "name": "stdout",
     "output_type": "stream",
     "text": [
      "     housetype  bedroom  sqrft   rate  individual  lease  ownflat  rental\n",
      "0       rental        1   2300   2500           0      0        0       1\n",
      "1      ownflat        2   3000   6000           0      0        1       0\n",
      "2   individual        3   5000   9000           1      0        0       0\n",
      "3        lease        2   2680   4000           0      1        0       0\n",
      "4       rental        1   2700   3000           0      0        0       1\n",
      "5       rental        1   2701   3200           0      0        0       1\n",
      "6      ownflat        2   5400   9800           0      0        1       0\n",
      "7      ownflat        2   4000   5000           0      0        1       0\n",
      "8      ownflat        2   6000   9700           0      0        1       0\n",
      "9   individual        3   6000  10000           1      0        0       0\n",
      "10  individual        3   5100   8000           1      0        0       0\n",
      "11  individual        2   5000   6000           1      0        0       0\n",
      "12  individual        2   5400   8000           1      0        0       0\n",
      "13       lease        1   1000   1200           0      1        0       0\n",
      "14       lease        3   2700   4100           0      1        0       0\n"
     ]
    }
   ],
   "source": [
    "merged=pd.concat([df,dumm],axis='columns')\n",
    "print(merged)"
   ]
  },
  {
   "cell_type": "code",
   "execution_count": 29,
   "metadata": {},
   "outputs": [],
   "source": [
    "final=merged.drop(['housetype','rental'],axis='columns')"
   ]
  },
  {
   "cell_type": "code",
   "execution_count": 30,
   "metadata": {},
   "outputs": [],
   "source": [
    "from sklearn.linear_model import LinearRegression\n",
    "model=LinearRegression()"
   ]
  },
  {
   "cell_type": "code",
   "execution_count": 34,
   "metadata": {},
   "outputs": [
    {
     "data": {
      "text/html": [
       "<div>\n",
       "<style scoped>\n",
       "    .dataframe tbody tr th:only-of-type {\n",
       "        vertical-align: middle;\n",
       "    }\n",
       "\n",
       "    .dataframe tbody tr th {\n",
       "        vertical-align: top;\n",
       "    }\n",
       "\n",
       "    .dataframe thead th {\n",
       "        text-align: right;\n",
       "    }\n",
       "</style>\n",
       "<table border=\"1\" class=\"dataframe\">\n",
       "  <thead>\n",
       "    <tr style=\"text-align: right;\">\n",
       "      <th></th>\n",
       "      <th>bedroom</th>\n",
       "      <th>sqrft</th>\n",
       "      <th>individual</th>\n",
       "      <th>lease</th>\n",
       "      <th>ownflat</th>\n",
       "    </tr>\n",
       "  </thead>\n",
       "  <tbody>\n",
       "    <tr>\n",
       "      <th>0</th>\n",
       "      <td>1</td>\n",
       "      <td>2300</td>\n",
       "      <td>0</td>\n",
       "      <td>0</td>\n",
       "      <td>0</td>\n",
       "    </tr>\n",
       "    <tr>\n",
       "      <th>1</th>\n",
       "      <td>2</td>\n",
       "      <td>3000</td>\n",
       "      <td>0</td>\n",
       "      <td>0</td>\n",
       "      <td>1</td>\n",
       "    </tr>\n",
       "    <tr>\n",
       "      <th>2</th>\n",
       "      <td>3</td>\n",
       "      <td>5000</td>\n",
       "      <td>1</td>\n",
       "      <td>0</td>\n",
       "      <td>0</td>\n",
       "    </tr>\n",
       "    <tr>\n",
       "      <th>3</th>\n",
       "      <td>2</td>\n",
       "      <td>2680</td>\n",
       "      <td>0</td>\n",
       "      <td>1</td>\n",
       "      <td>0</td>\n",
       "    </tr>\n",
       "    <tr>\n",
       "      <th>4</th>\n",
       "      <td>1</td>\n",
       "      <td>2700</td>\n",
       "      <td>0</td>\n",
       "      <td>0</td>\n",
       "      <td>0</td>\n",
       "    </tr>\n",
       "    <tr>\n",
       "      <th>5</th>\n",
       "      <td>1</td>\n",
       "      <td>2701</td>\n",
       "      <td>0</td>\n",
       "      <td>0</td>\n",
       "      <td>0</td>\n",
       "    </tr>\n",
       "    <tr>\n",
       "      <th>6</th>\n",
       "      <td>2</td>\n",
       "      <td>5400</td>\n",
       "      <td>0</td>\n",
       "      <td>0</td>\n",
       "      <td>1</td>\n",
       "    </tr>\n",
       "    <tr>\n",
       "      <th>7</th>\n",
       "      <td>2</td>\n",
       "      <td>4000</td>\n",
       "      <td>0</td>\n",
       "      <td>0</td>\n",
       "      <td>1</td>\n",
       "    </tr>\n",
       "    <tr>\n",
       "      <th>8</th>\n",
       "      <td>2</td>\n",
       "      <td>6000</td>\n",
       "      <td>0</td>\n",
       "      <td>0</td>\n",
       "      <td>1</td>\n",
       "    </tr>\n",
       "    <tr>\n",
       "      <th>9</th>\n",
       "      <td>3</td>\n",
       "      <td>6000</td>\n",
       "      <td>1</td>\n",
       "      <td>0</td>\n",
       "      <td>0</td>\n",
       "    </tr>\n",
       "    <tr>\n",
       "      <th>10</th>\n",
       "      <td>3</td>\n",
       "      <td>5100</td>\n",
       "      <td>1</td>\n",
       "      <td>0</td>\n",
       "      <td>0</td>\n",
       "    </tr>\n",
       "    <tr>\n",
       "      <th>11</th>\n",
       "      <td>2</td>\n",
       "      <td>5000</td>\n",
       "      <td>1</td>\n",
       "      <td>0</td>\n",
       "      <td>0</td>\n",
       "    </tr>\n",
       "    <tr>\n",
       "      <th>12</th>\n",
       "      <td>2</td>\n",
       "      <td>5400</td>\n",
       "      <td>1</td>\n",
       "      <td>0</td>\n",
       "      <td>0</td>\n",
       "    </tr>\n",
       "    <tr>\n",
       "      <th>13</th>\n",
       "      <td>1</td>\n",
       "      <td>1000</td>\n",
       "      <td>0</td>\n",
       "      <td>1</td>\n",
       "      <td>0</td>\n",
       "    </tr>\n",
       "    <tr>\n",
       "      <th>14</th>\n",
       "      <td>3</td>\n",
       "      <td>2700</td>\n",
       "      <td>0</td>\n",
       "      <td>1</td>\n",
       "      <td>0</td>\n",
       "    </tr>\n",
       "  </tbody>\n",
       "</table>\n",
       "</div>"
      ],
      "text/plain": [
       "    bedroom  sqrft  individual  lease  ownflat\n",
       "0         1   2300           0      0        0\n",
       "1         2   3000           0      0        1\n",
       "2         3   5000           1      0        0\n",
       "3         2   2680           0      1        0\n",
       "4         1   2700           0      0        0\n",
       "5         1   2701           0      0        0\n",
       "6         2   5400           0      0        1\n",
       "7         2   4000           0      0        1\n",
       "8         2   6000           0      0        1\n",
       "9         3   6000           1      0        0\n",
       "10        3   5100           1      0        0\n",
       "11        2   5000           1      0        0\n",
       "12        2   5400           1      0        0\n",
       "13        1   1000           0      1        0\n",
       "14        3   2700           0      1        0"
      ]
     },
     "execution_count": 34,
     "metadata": {},
     "output_type": "execute_result"
    }
   ],
   "source": [
    "x=final.drop(['rate'],axis='columns')\n",
    "x"
   ]
  },
  {
   "cell_type": "code",
   "execution_count": 37,
   "metadata": {},
   "outputs": [
    {
     "data": {
      "text/plain": [
       "0      2500\n",
       "1      6000\n",
       "2      9000\n",
       "3      4000\n",
       "4      3000\n",
       "5      3200\n",
       "6      9800\n",
       "7      5000\n",
       "8      9700\n",
       "9     10000\n",
       "10     8000\n",
       "11     6000\n",
       "12     8000\n",
       "13     1200\n",
       "14     4100\n",
       "Name: rate, dtype: int64"
      ]
     },
     "execution_count": 37,
     "metadata": {},
     "output_type": "execute_result"
    }
   ],
   "source": [
    "y=final.rate\n",
    "y"
   ]
  },
  {
   "cell_type": "code",
   "execution_count": 33,
   "metadata": {},
   "outputs": [
    {
     "data": {
      "text/plain": [
       "LinearRegression(copy_X=True, fit_intercept=True, n_jobs=1, normalize=False)"
      ]
     },
     "execution_count": 33,
     "metadata": {},
     "output_type": "execute_result"
    }
   ],
   "source": [
    "model.fit(x,y)"
   ]
  },
  {
   "cell_type": "code",
   "execution_count": 36,
   "metadata": {},
   "outputs": [
    {
     "data": {
      "text/plain": [
       "array([4883.73299488])"
      ]
     },
     "execution_count": 36,
     "metadata": {},
     "output_type": "execute_result"
    }
   ],
   "source": [
    "model.predict([[3,2900,1,0,0]])"
   ]
  },
  {
   "cell_type": "code",
   "execution_count": 40,
   "metadata": {},
   "outputs": [
    {
     "data": {
      "text/plain": [
       "0.9338590019135172"
      ]
     },
     "execution_count": 40,
     "metadata": {},
     "output_type": "execute_result"
    }
   ],
   "source": [
    "model.score(x,y)"
   ]
  },
  {
   "cell_type": "markdown",
   "metadata": {},
   "source": [
    "label encoding"
   ]
  },
  {
   "cell_type": "code",
   "execution_count": 41,
   "metadata": {},
   "outputs": [],
   "source": [
    "from sklearn.preprocessing import LabelEncoder\n",
    "le=LabelEncoder()"
   ]
  },
  {
   "cell_type": "code",
   "execution_count": 46,
   "metadata": {},
   "outputs": [
    {
     "data": {
      "text/html": [
       "<div>\n",
       "<style scoped>\n",
       "    .dataframe tbody tr th:only-of-type {\n",
       "        vertical-align: middle;\n",
       "    }\n",
       "\n",
       "    .dataframe tbody tr th {\n",
       "        vertical-align: top;\n",
       "    }\n",
       "\n",
       "    .dataframe thead th {\n",
       "        text-align: right;\n",
       "    }\n",
       "</style>\n",
       "<table border=\"1\" class=\"dataframe\">\n",
       "  <thead>\n",
       "    <tr style=\"text-align: right;\">\n",
       "      <th></th>\n",
       "      <th>housetype</th>\n",
       "      <th>bedroom</th>\n",
       "      <th>sqrft</th>\n",
       "      <th>rate</th>\n",
       "    </tr>\n",
       "  </thead>\n",
       "  <tbody>\n",
       "    <tr>\n",
       "      <th>0</th>\n",
       "      <td>3</td>\n",
       "      <td>1</td>\n",
       "      <td>2300</td>\n",
       "      <td>2500</td>\n",
       "    </tr>\n",
       "    <tr>\n",
       "      <th>1</th>\n",
       "      <td>2</td>\n",
       "      <td>2</td>\n",
       "      <td>3000</td>\n",
       "      <td>6000</td>\n",
       "    </tr>\n",
       "    <tr>\n",
       "      <th>2</th>\n",
       "      <td>0</td>\n",
       "      <td>3</td>\n",
       "      <td>5000</td>\n",
       "      <td>9000</td>\n",
       "    </tr>\n",
       "    <tr>\n",
       "      <th>3</th>\n",
       "      <td>1</td>\n",
       "      <td>2</td>\n",
       "      <td>2680</td>\n",
       "      <td>4000</td>\n",
       "    </tr>\n",
       "    <tr>\n",
       "      <th>4</th>\n",
       "      <td>3</td>\n",
       "      <td>1</td>\n",
       "      <td>2700</td>\n",
       "      <td>3000</td>\n",
       "    </tr>\n",
       "    <tr>\n",
       "      <th>5</th>\n",
       "      <td>3</td>\n",
       "      <td>1</td>\n",
       "      <td>2701</td>\n",
       "      <td>3200</td>\n",
       "    </tr>\n",
       "    <tr>\n",
       "      <th>6</th>\n",
       "      <td>2</td>\n",
       "      <td>2</td>\n",
       "      <td>5400</td>\n",
       "      <td>9800</td>\n",
       "    </tr>\n",
       "    <tr>\n",
       "      <th>7</th>\n",
       "      <td>2</td>\n",
       "      <td>2</td>\n",
       "      <td>4000</td>\n",
       "      <td>5000</td>\n",
       "    </tr>\n",
       "    <tr>\n",
       "      <th>8</th>\n",
       "      <td>2</td>\n",
       "      <td>2</td>\n",
       "      <td>6000</td>\n",
       "      <td>9700</td>\n",
       "    </tr>\n",
       "    <tr>\n",
       "      <th>9</th>\n",
       "      <td>0</td>\n",
       "      <td>3</td>\n",
       "      <td>6000</td>\n",
       "      <td>10000</td>\n",
       "    </tr>\n",
       "    <tr>\n",
       "      <th>10</th>\n",
       "      <td>0</td>\n",
       "      <td>3</td>\n",
       "      <td>5100</td>\n",
       "      <td>8000</td>\n",
       "    </tr>\n",
       "    <tr>\n",
       "      <th>11</th>\n",
       "      <td>0</td>\n",
       "      <td>2</td>\n",
       "      <td>5000</td>\n",
       "      <td>6000</td>\n",
       "    </tr>\n",
       "    <tr>\n",
       "      <th>12</th>\n",
       "      <td>0</td>\n",
       "      <td>2</td>\n",
       "      <td>5400</td>\n",
       "      <td>8000</td>\n",
       "    </tr>\n",
       "    <tr>\n",
       "      <th>13</th>\n",
       "      <td>1</td>\n",
       "      <td>1</td>\n",
       "      <td>1000</td>\n",
       "      <td>1200</td>\n",
       "    </tr>\n",
       "    <tr>\n",
       "      <th>14</th>\n",
       "      <td>1</td>\n",
       "      <td>3</td>\n",
       "      <td>2700</td>\n",
       "      <td>4100</td>\n",
       "    </tr>\n",
       "  </tbody>\n",
       "</table>\n",
       "</div>"
      ],
      "text/plain": [
       "    housetype  bedroom  sqrft   rate\n",
       "0           3        1   2300   2500\n",
       "1           2        2   3000   6000\n",
       "2           0        3   5000   9000\n",
       "3           1        2   2680   4000\n",
       "4           3        1   2700   3000\n",
       "5           3        1   2701   3200\n",
       "6           2        2   5400   9800\n",
       "7           2        2   4000   5000\n",
       "8           2        2   6000   9700\n",
       "9           0        3   6000  10000\n",
       "10          0        3   5100   8000\n",
       "11          0        2   5000   6000\n",
       "12          0        2   5400   8000\n",
       "13          1        1   1000   1200\n",
       "14          1        3   2700   4100"
      ]
     },
     "execution_count": 46,
     "metadata": {},
     "output_type": "execute_result"
    }
   ],
   "source": [
    "dfle=df\n",
    "dfle.housetype=le.fit_transform(dfle.housetype)\n",
    "dfle"
   ]
  },
  {
   "cell_type": "code",
   "execution_count": 152,
   "metadata": {},
   "outputs": [
    {
     "data": {
      "text/plain": [
       "array([[   3,    1, 2300],\n",
       "       [   2,    2, 3000],\n",
       "       [   0,    3, 5000],\n",
       "       [   1,    2, 2680],\n",
       "       [   3,    1, 2700],\n",
       "       [   3,    1, 2701],\n",
       "       [   2,    2, 5400],\n",
       "       [   2,    2, 4000],\n",
       "       [   2,    2, 6000],\n",
       "       [   0,    3, 6000],\n",
       "       [   0,    3, 5100],\n",
       "       [   0,    2, 5000],\n",
       "       [   0,    2, 5400],\n",
       "       [   1,    1, 1000],\n",
       "       [   1,    3, 2700]], dtype=int64)"
      ]
     },
     "execution_count": 152,
     "metadata": {},
     "output_type": "execute_result"
    }
   ],
   "source": [
    "x=dfle[['housetype','bedroom','sqrft']].values\n",
    "x"
   ]
  },
  {
   "cell_type": "code",
   "execution_count": 153,
   "metadata": {},
   "outputs": [
    {
     "data": {
      "text/plain": [
       "array([[ 2500],\n",
       "       [ 6000],\n",
       "       [ 9000],\n",
       "       [ 4000],\n",
       "       [ 3000],\n",
       "       [ 3200],\n",
       "       [ 9800],\n",
       "       [ 5000],\n",
       "       [ 9700],\n",
       "       [10000],\n",
       "       [ 8000],\n",
       "       [ 6000],\n",
       "       [ 8000],\n",
       "       [ 1200],\n",
       "       [ 4100]], dtype=int64)"
      ]
     },
     "execution_count": 153,
     "metadata": {},
     "output_type": "execute_result"
    }
   ],
   "source": [
    "y=dfle[['rate']].values\n",
    "y"
   ]
  },
  {
   "cell_type": "code",
   "execution_count": 154,
   "metadata": {},
   "outputs": [],
   "source": [
    "from sklearn.preprocessing import OneHotEncoder\n",
    "ohe=OneHotEncoder(categorical_features=[1])"
   ]
  },
  {
   "cell_type": "code",
   "execution_count": 155,
   "metadata": {},
   "outputs": [
    {
     "data": {
      "text/plain": [
       "array([[1.000e+00, 0.000e+00, 0.000e+00, 3.000e+00, 2.300e+03],\n",
       "       [0.000e+00, 1.000e+00, 0.000e+00, 2.000e+00, 3.000e+03],\n",
       "       [0.000e+00, 0.000e+00, 1.000e+00, 0.000e+00, 5.000e+03],\n",
       "       [0.000e+00, 1.000e+00, 0.000e+00, 1.000e+00, 2.680e+03],\n",
       "       [1.000e+00, 0.000e+00, 0.000e+00, 3.000e+00, 2.700e+03],\n",
       "       [1.000e+00, 0.000e+00, 0.000e+00, 3.000e+00, 2.701e+03],\n",
       "       [0.000e+00, 1.000e+00, 0.000e+00, 2.000e+00, 5.400e+03],\n",
       "       [0.000e+00, 1.000e+00, 0.000e+00, 2.000e+00, 4.000e+03],\n",
       "       [0.000e+00, 1.000e+00, 0.000e+00, 2.000e+00, 6.000e+03],\n",
       "       [0.000e+00, 0.000e+00, 1.000e+00, 0.000e+00, 6.000e+03],\n",
       "       [0.000e+00, 0.000e+00, 1.000e+00, 0.000e+00, 5.100e+03],\n",
       "       [0.000e+00, 1.000e+00, 0.000e+00, 0.000e+00, 5.000e+03],\n",
       "       [0.000e+00, 1.000e+00, 0.000e+00, 0.000e+00, 5.400e+03],\n",
       "       [1.000e+00, 0.000e+00, 0.000e+00, 1.000e+00, 1.000e+03],\n",
       "       [0.000e+00, 0.000e+00, 1.000e+00, 1.000e+00, 2.700e+03]])"
      ]
     },
     "execution_count": 155,
     "metadata": {},
     "output_type": "execute_result"
    }
   ],
   "source": [
    "x=ohe.fit_transform(x).toarray()\n",
    "x"
   ]
  },
  {
   "cell_type": "code",
   "execution_count": 156,
   "metadata": {},
   "outputs": [
    {
     "data": {
      "text/plain": [
       "array([[0.000e+00, 0.000e+00, 3.000e+00, 2.300e+03],\n",
       "       [1.000e+00, 0.000e+00, 2.000e+00, 3.000e+03],\n",
       "       [0.000e+00, 1.000e+00, 0.000e+00, 5.000e+03],\n",
       "       [1.000e+00, 0.000e+00, 1.000e+00, 2.680e+03],\n",
       "       [0.000e+00, 0.000e+00, 3.000e+00, 2.700e+03],\n",
       "       [0.000e+00, 0.000e+00, 3.000e+00, 2.701e+03],\n",
       "       [1.000e+00, 0.000e+00, 2.000e+00, 5.400e+03],\n",
       "       [1.000e+00, 0.000e+00, 2.000e+00, 4.000e+03],\n",
       "       [1.000e+00, 0.000e+00, 2.000e+00, 6.000e+03],\n",
       "       [0.000e+00, 1.000e+00, 0.000e+00, 6.000e+03],\n",
       "       [0.000e+00, 1.000e+00, 0.000e+00, 5.100e+03],\n",
       "       [1.000e+00, 0.000e+00, 0.000e+00, 5.000e+03],\n",
       "       [1.000e+00, 0.000e+00, 0.000e+00, 5.400e+03],\n",
       "       [0.000e+00, 0.000e+00, 1.000e+00, 1.000e+03],\n",
       "       [0.000e+00, 1.000e+00, 1.000e+00, 2.700e+03]])"
      ]
     },
     "execution_count": 156,
     "metadata": {},
     "output_type": "execute_result"
    }
   ],
   "source": [
    "x=x[:,1:]\n",
    "x"
   ]
  },
  {
   "cell_type": "code",
   "execution_count": 157,
   "metadata": {},
   "outputs": [
    {
     "data": {
      "text/plain": [
       "0      2500\n",
       "1      6000\n",
       "2      9000\n",
       "3      4000\n",
       "4      3000\n",
       "5      3200\n",
       "6      9800\n",
       "7      5000\n",
       "8      9700\n",
       "9     10000\n",
       "10     8000\n",
       "11     6000\n",
       "12     8000\n",
       "13     1200\n",
       "14     4100\n",
       "Name: rate, dtype: int64"
      ]
     },
     "execution_count": 157,
     "metadata": {},
     "output_type": "execute_result"
    }
   ],
   "source": [
    "y=dfle.rate\n",
    "y"
   ]
  },
  {
   "cell_type": "code",
   "execution_count": 158,
   "metadata": {},
   "outputs": [
    {
     "data": {
      "text/plain": [
       "LinearRegression(copy_X=True, fit_intercept=True, n_jobs=1, normalize=False)"
      ]
     },
     "execution_count": 158,
     "metadata": {},
     "output_type": "execute_result"
    }
   ],
   "source": [
    "model.fit(x,y)"
   ]
  },
  {
   "cell_type": "code",
   "execution_count": 163,
   "metadata": {},
   "outputs": [
    {
     "data": {
      "text/plain": [
       "array([7390.43389991])"
      ]
     },
     "execution_count": 163,
     "metadata": {},
     "output_type": "execute_result"
    }
   ],
   "source": [
    "model.predict([[0,2,2,2900]])"
   ]
  }
 ],
 "metadata": {
  "kernelspec": {
   "display_name": "Python 3",
   "language": "python",
   "name": "python3"
  },
  "language_info": {
   "codemirror_mode": {
    "name": "ipython",
    "version": 3
   },
   "file_extension": ".py",
   "mimetype": "text/x-python",
   "name": "python",
   "nbconvert_exporter": "python",
   "pygments_lexer": "ipython3",
   "version": "3.6.4"
  }
 },
 "nbformat": 4,
 "nbformat_minor": 2
}
